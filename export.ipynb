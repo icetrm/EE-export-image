{
 "cells": [
  {
   "cell_type": "code",
   "execution_count": 1,
   "metadata": {},
   "outputs": [],
   "source": [
    "import ee\n",
    "import geemap"
   ]
  },
  {
   "cell_type": "code",
   "execution_count": null,
   "metadata": {},
   "outputs": [],
   "source": [
    "ee.Authenticate()\n",
    "ee.Initialize(project='earthengine-theramed')"
   ]
  },
  {
   "cell_type": "code",
   "execution_count": 3,
   "metadata": {},
   "outputs": [
    {
     "data": {
      "text/html": [
       "\n",
       "            <style>\n",
       "                .geemap-dark {\n",
       "                    --jp-widgets-color: white;\n",
       "                    --jp-widgets-label-color: white;\n",
       "                    --jp-ui-font-color1: white;\n",
       "                    --jp-layout-color2: #454545;\n",
       "                    background-color: #383838;\n",
       "                }\n",
       "\n",
       "                .geemap-dark .jupyter-button {\n",
       "                    --jp-layout-color3: #383838;\n",
       "                }\n",
       "\n",
       "                .geemap-colab {\n",
       "                    background-color: var(--colab-primary-surface-color, white);\n",
       "                }\n",
       "\n",
       "                .geemap-colab .jupyter-button {\n",
       "                    --jp-layout-color3: var(--colab-primary-surface-color, white);\n",
       "                }\n",
       "            </style>\n",
       "            "
      ],
      "text/plain": [
       "<IPython.core.display.HTML object>"
      ]
     },
     "metadata": {},
     "output_type": "display_data"
    }
   ],
   "source": [
    "def mask_s2_clouds(image):\n",
    "  \"\"\"Masks clouds in a Sentinel-2 image using the QA band.\n",
    "\n",
    "  Args:\n",
    "      image (ee.Image): A Sentinel-2 image.\n",
    "\n",
    "  Returns:\n",
    "      ee.Image: A cloud-masked Sentinel-2 image.\n",
    "  \"\"\"\n",
    "  qa = image.select('QA60')\n",
    "\n",
    "  # Bits 10 and 11 are clouds and cirrus, respectively.\n",
    "  cloud_bit_mask = 1 << 10\n",
    "  cirrus_bit_mask = 1 << 11\n",
    "\n",
    "  # Both flags should be set to zero, indicating clear conditions.\n",
    "  mask = (\n",
    "      qa.bitwiseAnd(cloud_bit_mask)\n",
    "      .eq(0)\n",
    "      .And(qa.bitwiseAnd(cirrus_bit_mask).eq(0))\n",
    "  )\n",
    "\n",
    "  return image.updateMask(mask).divide(10000)"
   ]
  },
  {
   "cell_type": "code",
   "execution_count": 4,
   "metadata": {},
   "outputs": [
    {
     "data": {
      "text/html": [
       "\n",
       "            <style>\n",
       "                .geemap-dark {\n",
       "                    --jp-widgets-color: white;\n",
       "                    --jp-widgets-label-color: white;\n",
       "                    --jp-ui-font-color1: white;\n",
       "                    --jp-layout-color2: #454545;\n",
       "                    background-color: #383838;\n",
       "                }\n",
       "\n",
       "                .geemap-dark .jupyter-button {\n",
       "                    --jp-layout-color3: #383838;\n",
       "                }\n",
       "\n",
       "                .geemap-colab {\n",
       "                    background-color: var(--colab-primary-surface-color, white);\n",
       "                }\n",
       "\n",
       "                .geemap-colab .jupyter-button {\n",
       "                    --jp-layout-color3: var(--colab-primary-surface-color, white);\n",
       "                }\n",
       "            </style>\n",
       "            "
      ],
      "text/plain": [
       "<IPython.core.display.HTML object>"
      ]
     },
     "metadata": {},
     "output_type": "display_data"
    }
   ],
   "source": [
    "def calculate_ndvi_and_mask(image):\n",
    "    ndvi = image.expression(\n",
    "        \"(nir - red) / (nir + red)\",\n",
    "        {\n",
    "            'nir': image.select('B8'),\n",
    "            'red': image.select('B4')\n",
    "        }\n",
    "    ).rename('NDVI')\n",
    "\n",
    "    # Create a mask for NDVI values between -1 and 0\n",
    "    # Filter out values 0.5 to 0.8\n",
    "    ndvi_mask = ndvi.gte(0.5).And(ndvi.lte(0.8))\n",
    "\n",
    "    # Apply the mask to the NDVI image\n",
    "    ndvi_filtered = ndvi.updateMask(ndvi_mask)\n",
    "\n",
    "    # ndvi_filtered = ndvi\n",
    "\n",
    "    return ndvi_filtered\n",
    "\n"
   ]
  },
  {
   "cell_type": "code",
   "execution_count": 27,
   "metadata": {},
   "outputs": [
    {
     "data": {
      "text/html": [
       "\n",
       "            <style>\n",
       "                .geemap-dark {\n",
       "                    --jp-widgets-color: white;\n",
       "                    --jp-widgets-label-color: white;\n",
       "                    --jp-ui-font-color1: white;\n",
       "                    --jp-layout-color2: #454545;\n",
       "                    background-color: #383838;\n",
       "                }\n",
       "\n",
       "                .geemap-dark .jupyter-button {\n",
       "                    --jp-layout-color3: #383838;\n",
       "                }\n",
       "\n",
       "                .geemap-colab {\n",
       "                    background-color: var(--colab-primary-surface-color, white);\n",
       "                }\n",
       "\n",
       "                .geemap-colab .jupyter-button {\n",
       "                    --jp-layout-color3: var(--colab-primary-surface-color, white);\n",
       "                }\n",
       "            </style>\n",
       "            "
      ],
      "text/plain": [
       "<IPython.core.display.HTML object>"
      ]
     },
     "metadata": {},
     "output_type": "display_data"
    }
   ],
   "source": [
    "def getImage(province_name, start_date, end_date):\n",
    "    fao_dataset = ee.FeatureCollection(\"FAO/GAUL_SIMPLIFIED_500m/2015/level2\")\n",
    "\n",
    "\n",
    "    province = fao_dataset.filter(ee.Filter.eq('ADM1_NAME', province_name))\n",
    "\n",
    "    # district_name = 'Buntharik'\n",
    "    # district = fao_dataset.filter(ee.Filter.eq('ADM2_NAME', district_name))\n",
    "\n",
    "    # Get the centroid of the province geometry.\n",
    "    centroid = province.geometry().centroid()\n",
    "    # centroid = district.geometry().centroid()\n",
    "\n",
    "    # Define a buffer radius in meters (optional, if you want to create a ROI around the centroid).\n",
    "    buffer_radius = 100000  # 100 km\n",
    "    # buffer_radius = 10\n",
    "    # buffer_radius = buffer_radius * 9\n",
    "    # Create a buffer around the centroid to define the ROI.\n",
    "    roi = centroid.buffer(buffer_radius)\n",
    "\n",
    "    # Get the bounding box of the ROI\n",
    "    bounding_box = roi.bounds()\n",
    "\n",
    "    # Get the coordinates of the bounding box\n",
    "    coordinates = bounding_box.coordinates().get(0).getInfo()\n",
    "\n",
    "    # Extract the bounding box coordinates in the format [xmin, ymin, xmax, ymax]\n",
    "    xmin = coordinates[0][0]\n",
    "    ymin = coordinates[0][1]\n",
    "    xmax = coordinates[2][0]\n",
    "    ymax = coordinates[2][1]\n",
    "\n",
    "    bounding_box_coordinates = [xmin, ymin, xmax, ymax]\n",
    "\n",
    "\n",
    "    s2_image_collection = (\n",
    "        ee.ImageCollection(\"COPERNICUS/S2_SR_HARMONIZED\")\n",
    "        .filterDate(start_date, end_date)\n",
    "        .filter(ee.Filter.lt('CLOUDY_PIXEL_PERCENTAGE', 30))\n",
    "        .filterBounds(province)\n",
    "        # .filterBounds(district)\n",
    "        .sort(\"CLOUDY_PIXEL_PERCENTAGE\")\n",
    "        .map(mask_s2_clouds)\n",
    "    )\n",
    "    # Apply the NDVI calculation to the collection\n",
    "    ndvi_collection = s2_image_collection.map(calculate_ndvi_and_mask)\n",
    "    # Select a single image for demonstration purposes\n",
    "    image = ndvi_collection.mean()\n",
    "    # true_image = s2_image_collection.median().clip(province)\n",
    "    # Clip the image to the ROI\n",
    "    clipped_image = image.clip(province)\n",
    "    # Define the custom NDVI color palette\n",
    "    ndvi_palette = [\n",
    "        '0000FF',  # Water\n",
    "        'brown',   # Non-vegetated areas\n",
    "        'yellow',  # Sparse vegetation\n",
    "        'lightgreen',  # Moderate vegetation\n",
    "        'darkgreen'   # Dense vegetation\n",
    "    ]\n",
    "\n",
    "    # Add the original NDVI layer to the map\n",
    "    ndvi_params = {\n",
    "        'bands': ['NDVI'],\n",
    "        'min': -1,\n",
    "        'max': 1,\n",
    "        'palette': ndvi_palette\n",
    "    }\n",
    "    \n",
    "    return clipped_image, ndvi_params, bounding_box_coordinates, roi\n",
    "\n"
   ]
  },
  {
   "cell_type": "code",
   "execution_count": 23,
   "metadata": {},
   "outputs": [
    {
     "data": {
      "text/html": [
       "\n",
       "            <style>\n",
       "                .geemap-dark {\n",
       "                    --jp-widgets-color: white;\n",
       "                    --jp-widgets-label-color: white;\n",
       "                    --jp-ui-font-color1: white;\n",
       "                    --jp-layout-color2: #454545;\n",
       "                    background-color: #383838;\n",
       "                }\n",
       "\n",
       "                .geemap-dark .jupyter-button {\n",
       "                    --jp-layout-color3: #383838;\n",
       "                }\n",
       "\n",
       "                .geemap-colab {\n",
       "                    background-color: var(--colab-primary-surface-color, white);\n",
       "                }\n",
       "\n",
       "                .geemap-colab .jupyter-button {\n",
       "                    --jp-layout-color3: var(--colab-primary-surface-color, white);\n",
       "                }\n",
       "            </style>\n",
       "            "
      ],
      "text/plain": [
       "<IPython.core.display.HTML object>"
      ]
     },
     "metadata": {},
     "output_type": "display_data"
    }
   ],
   "source": [
    "data_export = [\n",
    "    {\n",
    "        \"province_name\": \"Udon Thani\",\n",
    "        \"start_date\": \"2019-05-01\",\n",
    "        \"end_date\": \"2019-06-01\"\n",
    "    }\n",
    "]"
   ]
  },
  {
   "cell_type": "code",
   "execution_count": 29,
   "metadata": {},
   "outputs": [
    {
     "data": {
      "text/html": [
       "\n",
       "            <style>\n",
       "                .geemap-dark {\n",
       "                    --jp-widgets-color: white;\n",
       "                    --jp-widgets-label-color: white;\n",
       "                    --jp-ui-font-color1: white;\n",
       "                    --jp-layout-color2: #454545;\n",
       "                    background-color: #383838;\n",
       "                }\n",
       "\n",
       "                .geemap-dark .jupyter-button {\n",
       "                    --jp-layout-color3: #383838;\n",
       "                }\n",
       "\n",
       "                .geemap-colab {\n",
       "                    background-color: var(--colab-primary-surface-color, white);\n",
       "                }\n",
       "\n",
       "                .geemap-colab .jupyter-button {\n",
       "                    --jp-layout-color3: var(--colab-primary-surface-color, white);\n",
       "                }\n",
       "            </style>\n",
       "            "
      ],
      "text/plain": [
       "<IPython.core.display.HTML object>"
      ]
     },
     "metadata": {},
     "output_type": "display_data"
    },
    {
     "data": {
      "application/vnd.jupyter.widget-view+json": {
       "model_id": "17c57b76c33b46d5a09eb811d89cb035",
       "version_major": 2,
       "version_minor": 0
      },
      "text/plain": [
       "Map(center=[0, 0], controls=(WidgetControl(options=['position', 'transparent_bg'], widget=SearchDataGUI(childr…"
      ]
     },
     "execution_count": 29,
     "metadata": {},
     "output_type": "execute_result"
    }
   ],
   "source": [
    "i = data_export[0]\n",
    "clipped_image, ndvi_params, bounding_box_coordinates, roi = getImage(i['province_name'], i['start_date'], i['end_date'])\n",
    "# Display the inputs and the results.\n",
    "m = geemap.Map()\n",
    "m.addLayer(clipped_image, ndvi_params, 'NDVI')\n",
    "m.centerObject(roi)\n",
    "m\n",
    " "
   ]
  },
  {
   "cell_type": "code",
   "execution_count": 31,
   "metadata": {},
   "outputs": [
    {
     "data": {
      "text/html": [
       "\n",
       "            <style>\n",
       "                .geemap-dark {\n",
       "                    --jp-widgets-color: white;\n",
       "                    --jp-widgets-label-color: white;\n",
       "                    --jp-ui-font-color1: white;\n",
       "                    --jp-layout-color2: #454545;\n",
       "                    background-color: #383838;\n",
       "                }\n",
       "\n",
       "                .geemap-dark .jupyter-button {\n",
       "                    --jp-layout-color3: #383838;\n",
       "                }\n",
       "\n",
       "                .geemap-colab {\n",
       "                    background-color: var(--colab-primary-surface-color, white);\n",
       "                }\n",
       "\n",
       "                .geemap-colab .jupyter-button {\n",
       "                    --jp-layout-color3: var(--colab-primary-surface-color, white);\n",
       "                }\n",
       "            </style>\n",
       "            "
      ],
      "text/plain": [
       "<IPython.core.display.HTML object>"
      ]
     },
     "metadata": {},
     "output_type": "display_data"
    },
    {
     "name": "stdout",
     "output_type": "stream",
     "text": [
      "Downloaded image 1/49\n",
      "Downloaded image 2/49\n",
      "Downloaded image 3/49\n",
      "Downloaded image 4/49\n",
      "Downloaded image 5/49\n",
      "Downloaded image 6/49\n",
      "Downloaded image 7/49\n",
      "Downloaded image 8/49\n",
      "Downloaded image 9/49\n",
      "Downloaded image 10/49\n",
      "Downloaded image 11/49\n",
      "Downloaded image 12/49\n",
      "Downloaded image 13/49\n",
      "Downloaded image 14/49\n",
      "Downloaded image 15/49\n",
      "Downloaded image 16/49\n",
      "Downloaded image 17/49\n",
      "Downloaded image 18/49\n",
      "Downloaded image 19/49\n",
      "Downloaded image 20/49\n",
      "Downloaded image 21/49\n",
      "Downloaded image 22/49\n",
      "Downloaded image 23/49\n",
      "Downloaded image 24/49\n",
      "Downloaded image 25/49\n",
      "Downloaded image 26/49\n",
      "Downloaded image 27/49\n",
      "Downloaded image 28/49\n",
      "Downloaded image 29/49\n",
      "Downloaded image 30/49\n",
      "Downloaded image 31/49\n",
      "Downloaded image 32/49\n",
      "Downloaded image 33/49\n",
      "Downloaded image 34/49\n",
      "Downloaded image 35/49\n",
      "Downloaded image 36/49\n",
      "Downloaded image 37/49\n",
      "Downloaded image 38/49\n",
      "Downloaded image 39/49\n",
      "Downloaded image 40/49\n",
      "Downloaded image 41/49\n",
      "Downloaded image 42/49\n",
      "Downloaded image 43/49\n",
      "Downloaded image 44/49\n",
      "Downloaded image 45/49\n",
      "Downloaded image 46/49\n",
      "Downloaded image 47/49\n",
      "Downloaded image 48/49\n",
      "Downloaded image 49/49\n",
      "Saving GeoTIFF. Please wait...\n",
      "Image saved to images/udon-thani-2019-05-01-2019-06-01.tif\n"
     ]
    }
   ],
   "source": [
    "# Export the image\n",
    "geemap.ee_to_geotiff(clipped_image, 'images/' + i['province_name'].lower().replace(\" \", \"-\") + '-' + i['start_date'] + '-' + i['end_date'] + '.tif', bounding_box_coordinates, vis_params=ndvi_params, resolution=100)"
   ]
  }
 ],
 "metadata": {
  "kernelspec": {
   "display_name": "is",
   "language": "python",
   "name": "python3"
  },
  "language_info": {
   "codemirror_mode": {
    "name": "ipython",
    "version": 3
   },
   "file_extension": ".py",
   "mimetype": "text/x-python",
   "name": "python",
   "nbconvert_exporter": "python",
   "pygments_lexer": "ipython3",
   "version": "3.9.16"
  }
 },
 "nbformat": 4,
 "nbformat_minor": 2
}
